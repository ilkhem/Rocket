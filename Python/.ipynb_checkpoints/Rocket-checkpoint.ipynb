{
 "cells": [
  {
   "cell_type": "code",
   "execution_count": 1,
   "metadata": {
    "collapsed": true
   },
   "outputs": [],
   "source": [
    "import numpy as np\n",
    "import cv2\n",
    "import matplotlib.pyplot as plt\n",
    "cv2.startWindowThread()\n",
    "%matplotlib inline"
   ]
  },
  {
   "cell_type": "code",
   "execution_count": null,
   "metadata": {
    "collapsed": true
   },
   "outputs": [],
   "source": [
    "red_low_1 = np.array([0,150,95])\n",
    "red_high_1 = np.array([10,255,255])\n",
    "red_low_2 = np.array([0,150,95])\n",
    "red_high_2 = np.array([160,255,255])\n",
    "green_low = np.array([40,20,190])\n",
    "green_high = np.array([70,255,255])\n",
    "orange_low = np.array([10,50,190])\n",
    "orange_high = np.array([40,255,255])\n",
    "white_low = np.array([70,0,200])\n",
    "white_high = np.array([179,255,255])\n",
    "blue_low = np.array([80,140,80])\n",
    "blue_high = np.array([140,255,255])"
   ]
  },
  {
   "cell_type": "code",
   "execution_count": null,
   "metadata": {},
   "outputs": [],
   "source": [
    "# CAMERA\n",
    "cap = cv2.VideoCapture(0)\n",
    "\n",
    "while(1):\n",
    "    \n",
    "    _, frame = cap.read()\n",
    "    imhsv = cv2.cvtColor(frame, cv2.COLOR_BGR2HSV)\n",
    "    imc = frame.copy()\n",
    "\n",
    "    # green contours and centroids\n",
    "    mask1 = cv2.inRange(imhsv, green_low, green_high)\n",
    "    \n",
    "    image, contours, hierarchy = cv2.findContours(mask1, cv2.RETR_EXTERNAL, cv2.CHAIN_APPROX_SIMPLE)\n",
    "    for cnt in contours:\n",
    "        imc = cv2.drawContours(imc, [cnt], 0, (0,255,0), 3)\n",
    "    moments  = [cv2.moments(cnt) for cnt in contours]\n",
    "    centroids1 = []\n",
    "    for m in moments:\n",
    "        try:\n",
    "            centroids1 += [( int(round(m['m10']/m['m00'])),int(round(m['m01']/m['m00'])) )]\n",
    "        except:\n",
    "            pass\n",
    "    for c in centroids1:\n",
    "        cv2.circle(imc, c, 3, (200,0,0))\n",
    "        \n",
    "    # orange contours and centroids\n",
    "    mask2 = cv2.inRange(imhsv, orange_low, orange_high)\n",
    "\n",
    "    image, contours, hierarchy = cv2.findContours(mask2, cv2.RETR_EXTERNAL, cv2.CHAIN_APPROX_SIMPLE)\n",
    "    for cnt in contours:\n",
    "        imc = cv2.drawContours(imc, [cnt], 0, (0,255,0), 3)\n",
    "    moments  = [cv2.moments(cnt) for cnt in contours]\n",
    "    centroids2 = []\n",
    "    for m in moments:\n",
    "        try:\n",
    "            centroids2 += [( int(round(m['m10']/m['m00'])),int(round(m['m01']/m['m00'])) )]\n",
    "        except:\n",
    "            pass\n",
    "    for c in centroids2:\n",
    "        cv2.circle(imc, c, 3, (0,0,200))\n",
    "        \n",
    "    # white contours and centroids\n",
    "    mask3 = cv2.inRange(imhsv, white_low, white_high)\n",
    "\n",
    "    image, contours, hierarchy = cv2.findContours(mask3, cv2.RETR_EXTERNAL, cv2.CHAIN_APPROX_SIMPLE)\n",
    "    \n",
    "    main_cnt = sorted(contours, key = cv2.contourArea, reverse = True)[0]\n",
    "    \n",
    "    try:\n",
    "        center, axis,angle = cv2.fitEllipse(main_cnt)\n",
    "\n",
    "        hyp = 100  # length of the orientation line\n",
    "\n",
    "        # Find out coordinates of 2nd point if given length of line and center coord \n",
    "        linex = int(center[0]) + int(np.sin(np.radians(angle))*hyp)\n",
    "        liney = int(center[1]) - int(np.cos(np.radians(angle))*hyp)\n",
    "\n",
    "        # Draw orienation\n",
    "        cv2.line(imc, (int(center[0]),int(center[1])), (linex, liney), (0,0,255),5)             \n",
    "        cv2.circle(imc, (int(center[0]), int(center[1])), 10, (255,0,0), -1)\n",
    "    except:\n",
    "        pass\n",
    "        \n",
    "    imc = cv2.drawContours(imc, [main_cnt], 0, (0,255,0), 3)\n",
    "    moments  = [cv2.moments(main_cnt)]\n",
    "    centroids3 = []\n",
    "    for m in moments:\n",
    "        try:\n",
    "            centroids3 += [( int(round(m['m10']/m['m00'])),int(round(m['m01']/m['m00'])) )]\n",
    "        except:\n",
    "            pass\n",
    "    for c in centroids3:\n",
    "        cv2.circle(imc, c, 3, (0,200,0))\n",
    "        \n",
    "    #print(x,y,MA,ma,angle)\n",
    "    \n",
    "    #print('Green centroids:', centroids1)\n",
    "    #print('Orange centroids:', centroids2)\n",
    "    #print('Robot centroid:', centroids3)\n",
    "    # show the final frame    \n",
    "    cv2.imshow('c', imc)\n",
    "    if cv2.waitKey(1) & 0xFF == ord('q'):\n",
    "        break\n",
    "        \n",
    "    \n",
    "cv2.destroyAllWindows()"
   ]
  },
  {
   "cell_type": "code",
   "execution_count": null,
   "metadata": {
    "collapsed": true
   },
   "outputs": [],
   "source": [
    "sel_cnts = sorted(contours, key = cv2.contourArea, reverse = True)"
   ]
  },
  {
   "cell_type": "code",
   "execution_count": null,
   "metadata": {},
   "outputs": [],
   "source": [
    "contours[1]"
   ]
  },
  {
   "cell_type": "code",
   "execution_count": null,
   "metadata": {},
   "outputs": [],
   "source": [
    "sel_cnts[1]"
   ]
  },
  {
   "cell_type": "code",
   "execution_count": null,
   "metadata": {
    "collapsed": true
   },
   "outputs": [],
   "source": [
    "import serial"
   ]
  }
 ],
 "metadata": {
  "kernelspec": {
   "display_name": "Python 3",
   "language": "python",
   "name": "python3"
  },
  "language_info": {
   "codemirror_mode": {
    "name": "ipython",
    "version": 3
   },
   "file_extension": ".py",
   "mimetype": "text/x-python",
   "name": "python",
   "nbconvert_exporter": "python",
   "pygments_lexer": "ipython3",
   "version": "3.6.1"
  }
 },
 "nbformat": 4,
 "nbformat_minor": 2
}
